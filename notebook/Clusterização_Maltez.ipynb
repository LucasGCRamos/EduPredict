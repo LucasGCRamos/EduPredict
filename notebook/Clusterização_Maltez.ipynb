{
  "cells": [
    {
      "cell_type": "code",
      "execution_count": 18,
      "metadata": {
        "id": "qnYCeK3opK7y"
      },
      "outputs": [],
      "source": [
        "import pandas as pd\n",
        "from sklearn.cluster import KMeans\n",
        "import matplotlib.pyplot as plt\n",
        "from sklearn.preprocessing import StandardScaler\n",
        "from sklearn.decomposition import PCA\n",
        "from sklearn.metrics import silhouette_score\n",
        "import seaborn as sns"
      ]
    },
    {
      "cell_type": "code",
      "execution_count": 16,
      "metadata": {
        "id": "RyWGfUd-hhV5"
      },
      "outputs": [],
      "source": [
        "\n",
        "arquivo = '/content/predict_dropout.parquet'\n",
        "\n",
        "#Upar dataframe\n"
      ]
    },
    {
      "cell_type": "code",
      "execution_count": 19,
      "metadata": {
        "colab": {
          "base_uri": "https://localhost:8080/",
          "height": 288
        },
        "id": "YDnujoFmiBOT",
        "outputId": "92e673ad-7082-44d5-e532-0c07cf5e51ea"
      },
      "outputs": [
        {
          "data": {
            "application/vnd.google.colaboratory.intrinsic+json": {
              "type": "dataframe"
            },
            "text/html": [
              "\n",
              "  <div id=\"df-db099c1d-60ec-4fe4-8d93-a5c00b4e7b06\" class=\"colab-df-container\">\n",
              "    <div>\n",
              "<style scoped>\n",
              "    .dataframe tbody tr th:only-of-type {\n",
              "        vertical-align: middle;\n",
              "    }\n",
              "\n",
              "    .dataframe tbody tr th {\n",
              "        vertical-align: top;\n",
              "    }\n",
              "\n",
              "    .dataframe thead th {\n",
              "        text-align: right;\n",
              "    }\n",
              "</style>\n",
              "<table border=\"1\" class=\"dataframe\">\n",
              "  <thead>\n",
              "    <tr style=\"text-align: right;\">\n",
              "      <th></th>\n",
              "      <th>Marital status</th>\n",
              "      <th>Application mode</th>\n",
              "      <th>Application order</th>\n",
              "      <th>Course</th>\n",
              "      <th>Daytime/evening attendance\\t</th>\n",
              "      <th>Previous qualification</th>\n",
              "      <th>Previous qualification (grade)</th>\n",
              "      <th>Nacionality</th>\n",
              "      <th>Mother's qualification</th>\n",
              "      <th>Father's qualification</th>\n",
              "      <th>...</th>\n",
              "      <th>Curricular units 2nd sem (credited)</th>\n",
              "      <th>Curricular units 2nd sem (enrolled)</th>\n",
              "      <th>Curricular units 2nd sem (evaluations)</th>\n",
              "      <th>Curricular units 2nd sem (approved)</th>\n",
              "      <th>Curricular units 2nd sem (grade)</th>\n",
              "      <th>Curricular units 2nd sem (without evaluations)</th>\n",
              "      <th>Unemployment rate</th>\n",
              "      <th>Inflation rate</th>\n",
              "      <th>GDP</th>\n",
              "      <th>Target</th>\n",
              "    </tr>\n",
              "  </thead>\n",
              "  <tbody>\n",
              "    <tr>\n",
              "      <th>0</th>\n",
              "      <td>1</td>\n",
              "      <td>17</td>\n",
              "      <td>5</td>\n",
              "      <td>171</td>\n",
              "      <td>1</td>\n",
              "      <td>1</td>\n",
              "      <td>122.0</td>\n",
              "      <td>1</td>\n",
              "      <td>19</td>\n",
              "      <td>12</td>\n",
              "      <td>...</td>\n",
              "      <td>0</td>\n",
              "      <td>0</td>\n",
              "      <td>0</td>\n",
              "      <td>0</td>\n",
              "      <td>0.000000</td>\n",
              "      <td>0</td>\n",
              "      <td>10.8</td>\n",
              "      <td>1.4</td>\n",
              "      <td>1.74</td>\n",
              "      <td>1</td>\n",
              "    </tr>\n",
              "    <tr>\n",
              "      <th>1</th>\n",
              "      <td>1</td>\n",
              "      <td>15</td>\n",
              "      <td>1</td>\n",
              "      <td>9254</td>\n",
              "      <td>1</td>\n",
              "      <td>1</td>\n",
              "      <td>160.0</td>\n",
              "      <td>1</td>\n",
              "      <td>1</td>\n",
              "      <td>3</td>\n",
              "      <td>...</td>\n",
              "      <td>0</td>\n",
              "      <td>6</td>\n",
              "      <td>6</td>\n",
              "      <td>6</td>\n",
              "      <td>13.666667</td>\n",
              "      <td>0</td>\n",
              "      <td>13.9</td>\n",
              "      <td>-0.3</td>\n",
              "      <td>0.79</td>\n",
              "      <td>2</td>\n",
              "    </tr>\n",
              "    <tr>\n",
              "      <th>2</th>\n",
              "      <td>1</td>\n",
              "      <td>1</td>\n",
              "      <td>5</td>\n",
              "      <td>9070</td>\n",
              "      <td>1</td>\n",
              "      <td>1</td>\n",
              "      <td>122.0</td>\n",
              "      <td>1</td>\n",
              "      <td>37</td>\n",
              "      <td>37</td>\n",
              "      <td>...</td>\n",
              "      <td>0</td>\n",
              "      <td>6</td>\n",
              "      <td>0</td>\n",
              "      <td>0</td>\n",
              "      <td>0.000000</td>\n",
              "      <td>0</td>\n",
              "      <td>10.8</td>\n",
              "      <td>1.4</td>\n",
              "      <td>1.74</td>\n",
              "      <td>1</td>\n",
              "    </tr>\n",
              "    <tr>\n",
              "      <th>3</th>\n",
              "      <td>1</td>\n",
              "      <td>17</td>\n",
              "      <td>2</td>\n",
              "      <td>9773</td>\n",
              "      <td>1</td>\n",
              "      <td>1</td>\n",
              "      <td>122.0</td>\n",
              "      <td>1</td>\n",
              "      <td>38</td>\n",
              "      <td>37</td>\n",
              "      <td>...</td>\n",
              "      <td>0</td>\n",
              "      <td>6</td>\n",
              "      <td>10</td>\n",
              "      <td>5</td>\n",
              "      <td>12.400000</td>\n",
              "      <td>0</td>\n",
              "      <td>9.4</td>\n",
              "      <td>-0.8</td>\n",
              "      <td>-3.12</td>\n",
              "      <td>2</td>\n",
              "    </tr>\n",
              "    <tr>\n",
              "      <th>4</th>\n",
              "      <td>2</td>\n",
              "      <td>39</td>\n",
              "      <td>1</td>\n",
              "      <td>8014</td>\n",
              "      <td>0</td>\n",
              "      <td>1</td>\n",
              "      <td>100.0</td>\n",
              "      <td>1</td>\n",
              "      <td>37</td>\n",
              "      <td>38</td>\n",
              "      <td>...</td>\n",
              "      <td>0</td>\n",
              "      <td>6</td>\n",
              "      <td>6</td>\n",
              "      <td>6</td>\n",
              "      <td>13.000000</td>\n",
              "      <td>0</td>\n",
              "      <td>13.9</td>\n",
              "      <td>-0.3</td>\n",
              "      <td>0.79</td>\n",
              "      <td>2</td>\n",
              "    </tr>\n",
              "  </tbody>\n",
              "</table>\n",
              "<p>5 rows × 37 columns</p>\n",
              "</div>\n",
              "    <div class=\"colab-df-buttons\">\n",
              "\n",
              "  <div class=\"colab-df-container\">\n",
              "    <button class=\"colab-df-convert\" onclick=\"convertToInteractive('df-db099c1d-60ec-4fe4-8d93-a5c00b4e7b06')\"\n",
              "            title=\"Convert this dataframe to an interactive table.\"\n",
              "            style=\"display:none;\">\n",
              "\n",
              "  <svg xmlns=\"http://www.w3.org/2000/svg\" height=\"24px\" viewBox=\"0 -960 960 960\">\n",
              "    <path d=\"M120-120v-720h720v720H120Zm60-500h600v-160H180v160Zm220 220h160v-160H400v160Zm0 220h160v-160H400v160ZM180-400h160v-160H180v160Zm440 0h160v-160H620v160ZM180-180h160v-160H180v160Zm440 0h160v-160H620v160Z\"/>\n",
              "  </svg>\n",
              "    </button>\n",
              "\n",
              "  <style>\n",
              "    .colab-df-container {\n",
              "      display:flex;\n",
              "      gap: 12px;\n",
              "    }\n",
              "\n",
              "    .colab-df-convert {\n",
              "      background-color: #E8F0FE;\n",
              "      border: none;\n",
              "      border-radius: 50%;\n",
              "      cursor: pointer;\n",
              "      display: none;\n",
              "      fill: #1967D2;\n",
              "      height: 32px;\n",
              "      padding: 0 0 0 0;\n",
              "      width: 32px;\n",
              "    }\n",
              "\n",
              "    .colab-df-convert:hover {\n",
              "      background-color: #E2EBFA;\n",
              "      box-shadow: 0px 1px 2px rgba(60, 64, 67, 0.3), 0px 1px 3px 1px rgba(60, 64, 67, 0.15);\n",
              "      fill: #174EA6;\n",
              "    }\n",
              "\n",
              "    .colab-df-buttons div {\n",
              "      margin-bottom: 4px;\n",
              "    }\n",
              "\n",
              "    [theme=dark] .colab-df-convert {\n",
              "      background-color: #3B4455;\n",
              "      fill: #D2E3FC;\n",
              "    }\n",
              "\n",
              "    [theme=dark] .colab-df-convert:hover {\n",
              "      background-color: #434B5C;\n",
              "      box-shadow: 0px 1px 3px 1px rgba(0, 0, 0, 0.15);\n",
              "      filter: drop-shadow(0px 1px 2px rgba(0, 0, 0, 0.3));\n",
              "      fill: #FFFFFF;\n",
              "    }\n",
              "  </style>\n",
              "\n",
              "    <script>\n",
              "      const buttonEl =\n",
              "        document.querySelector('#df-db099c1d-60ec-4fe4-8d93-a5c00b4e7b06 button.colab-df-convert');\n",
              "      buttonEl.style.display =\n",
              "        google.colab.kernel.accessAllowed ? 'block' : 'none';\n",
              "\n",
              "      async function convertToInteractive(key) {\n",
              "        const element = document.querySelector('#df-db099c1d-60ec-4fe4-8d93-a5c00b4e7b06');\n",
              "        const dataTable =\n",
              "          await google.colab.kernel.invokeFunction('convertToInteractive',\n",
              "                                                    [key], {});\n",
              "        if (!dataTable) return;\n",
              "\n",
              "        const docLinkHtml = 'Like what you see? Visit the ' +\n",
              "          '<a target=\"_blank\" href=https://colab.research.google.com/notebooks/data_table.ipynb>data table notebook</a>'\n",
              "          + ' to learn more about interactive tables.';\n",
              "        element.innerHTML = '';\n",
              "        dataTable['output_type'] = 'display_data';\n",
              "        await google.colab.output.renderOutput(dataTable, element);\n",
              "        const docLink = document.createElement('div');\n",
              "        docLink.innerHTML = docLinkHtml;\n",
              "        element.appendChild(docLink);\n",
              "      }\n",
              "    </script>\n",
              "  </div>\n",
              "\n",
              "\n",
              "<div id=\"df-90570c9e-ccd4-4369-9161-5abceb3b19cf\">\n",
              "  <button class=\"colab-df-quickchart\" onclick=\"quickchart('df-90570c9e-ccd4-4369-9161-5abceb3b19cf')\"\n",
              "            title=\"Suggest charts\"\n",
              "            style=\"display:none;\">\n",
              "\n",
              "<svg xmlns=\"http://www.w3.org/2000/svg\" height=\"24px\"viewBox=\"0 0 24 24\"\n",
              "     width=\"24px\">\n",
              "    <g>\n",
              "        <path d=\"M19 3H5c-1.1 0-2 .9-2 2v14c0 1.1.9 2 2 2h14c1.1 0 2-.9 2-2V5c0-1.1-.9-2-2-2zM9 17H7v-7h2v7zm4 0h-2V7h2v10zm4 0h-2v-4h2v4z\"/>\n",
              "    </g>\n",
              "</svg>\n",
              "  </button>\n",
              "\n",
              "<style>\n",
              "  .colab-df-quickchart {\n",
              "      --bg-color: #E8F0FE;\n",
              "      --fill-color: #1967D2;\n",
              "      --hover-bg-color: #E2EBFA;\n",
              "      --hover-fill-color: #174EA6;\n",
              "      --disabled-fill-color: #AAA;\n",
              "      --disabled-bg-color: #DDD;\n",
              "  }\n",
              "\n",
              "  [theme=dark] .colab-df-quickchart {\n",
              "      --bg-color: #3B4455;\n",
              "      --fill-color: #D2E3FC;\n",
              "      --hover-bg-color: #434B5C;\n",
              "      --hover-fill-color: #FFFFFF;\n",
              "      --disabled-bg-color: #3B4455;\n",
              "      --disabled-fill-color: #666;\n",
              "  }\n",
              "\n",
              "  .colab-df-quickchart {\n",
              "    background-color: var(--bg-color);\n",
              "    border: none;\n",
              "    border-radius: 50%;\n",
              "    cursor: pointer;\n",
              "    display: none;\n",
              "    fill: var(--fill-color);\n",
              "    height: 32px;\n",
              "    padding: 0;\n",
              "    width: 32px;\n",
              "  }\n",
              "\n",
              "  .colab-df-quickchart:hover {\n",
              "    background-color: var(--hover-bg-color);\n",
              "    box-shadow: 0 1px 2px rgba(60, 64, 67, 0.3), 0 1px 3px 1px rgba(60, 64, 67, 0.15);\n",
              "    fill: var(--button-hover-fill-color);\n",
              "  }\n",
              "\n",
              "  .colab-df-quickchart-complete:disabled,\n",
              "  .colab-df-quickchart-complete:disabled:hover {\n",
              "    background-color: var(--disabled-bg-color);\n",
              "    fill: var(--disabled-fill-color);\n",
              "    box-shadow: none;\n",
              "  }\n",
              "\n",
              "  .colab-df-spinner {\n",
              "    border: 2px solid var(--fill-color);\n",
              "    border-color: transparent;\n",
              "    border-bottom-color: var(--fill-color);\n",
              "    animation:\n",
              "      spin 1s steps(1) infinite;\n",
              "  }\n",
              "\n",
              "  @keyframes spin {\n",
              "    0% {\n",
              "      border-color: transparent;\n",
              "      border-bottom-color: var(--fill-color);\n",
              "      border-left-color: var(--fill-color);\n",
              "    }\n",
              "    20% {\n",
              "      border-color: transparent;\n",
              "      border-left-color: var(--fill-color);\n",
              "      border-top-color: var(--fill-color);\n",
              "    }\n",
              "    30% {\n",
              "      border-color: transparent;\n",
              "      border-left-color: var(--fill-color);\n",
              "      border-top-color: var(--fill-color);\n",
              "      border-right-color: var(--fill-color);\n",
              "    }\n",
              "    40% {\n",
              "      border-color: transparent;\n",
              "      border-right-color: var(--fill-color);\n",
              "      border-top-color: var(--fill-color);\n",
              "    }\n",
              "    60% {\n",
              "      border-color: transparent;\n",
              "      border-right-color: var(--fill-color);\n",
              "    }\n",
              "    80% {\n",
              "      border-color: transparent;\n",
              "      border-right-color: var(--fill-color);\n",
              "      border-bottom-color: var(--fill-color);\n",
              "    }\n",
              "    90% {\n",
              "      border-color: transparent;\n",
              "      border-bottom-color: var(--fill-color);\n",
              "    }\n",
              "  }\n",
              "</style>\n",
              "\n",
              "  <script>\n",
              "    async function quickchart(key) {\n",
              "      const quickchartButtonEl =\n",
              "        document.querySelector('#' + key + ' button');\n",
              "      quickchartButtonEl.disabled = true;  // To prevent multiple clicks.\n",
              "      quickchartButtonEl.classList.add('colab-df-spinner');\n",
              "      try {\n",
              "        const charts = await google.colab.kernel.invokeFunction(\n",
              "            'suggestCharts', [key], {});\n",
              "      } catch (error) {\n",
              "        console.error('Error during call to suggestCharts:', error);\n",
              "      }\n",
              "      quickchartButtonEl.classList.remove('colab-df-spinner');\n",
              "      quickchartButtonEl.classList.add('colab-df-quickchart-complete');\n",
              "    }\n",
              "    (() => {\n",
              "      let quickchartButtonEl =\n",
              "        document.querySelector('#df-90570c9e-ccd4-4369-9161-5abceb3b19cf button');\n",
              "      quickchartButtonEl.style.display =\n",
              "        google.colab.kernel.accessAllowed ? 'block' : 'none';\n",
              "    })();\n",
              "  </script>\n",
              "</div>\n",
              "\n",
              "    </div>\n",
              "  </div>\n"
            ],
            "text/plain": [
              "   Marital status  Application mode  Application order  Course  \\\n",
              "0               1                17                  5     171   \n",
              "1               1                15                  1    9254   \n",
              "2               1                 1                  5    9070   \n",
              "3               1                17                  2    9773   \n",
              "4               2                39                  1    8014   \n",
              "\n",
              "   Daytime/evening attendance\\t  Previous qualification  \\\n",
              "0                             1                       1   \n",
              "1                             1                       1   \n",
              "2                             1                       1   \n",
              "3                             1                       1   \n",
              "4                             0                       1   \n",
              "\n",
              "   Previous qualification (grade)  Nacionality  Mother's qualification  \\\n",
              "0                           122.0            1                      19   \n",
              "1                           160.0            1                       1   \n",
              "2                           122.0            1                      37   \n",
              "3                           122.0            1                      38   \n",
              "4                           100.0            1                      37   \n",
              "\n",
              "   Father's qualification  ...  Curricular units 2nd sem (credited)  \\\n",
              "0                      12  ...                                    0   \n",
              "1                       3  ...                                    0   \n",
              "2                      37  ...                                    0   \n",
              "3                      37  ...                                    0   \n",
              "4                      38  ...                                    0   \n",
              "\n",
              "   Curricular units 2nd sem (enrolled)  \\\n",
              "0                                    0   \n",
              "1                                    6   \n",
              "2                                    6   \n",
              "3                                    6   \n",
              "4                                    6   \n",
              "\n",
              "   Curricular units 2nd sem (evaluations)  \\\n",
              "0                                       0   \n",
              "1                                       6   \n",
              "2                                       0   \n",
              "3                                      10   \n",
              "4                                       6   \n",
              "\n",
              "   Curricular units 2nd sem (approved)  Curricular units 2nd sem (grade)  \\\n",
              "0                                    0                          0.000000   \n",
              "1                                    6                         13.666667   \n",
              "2                                    0                          0.000000   \n",
              "3                                    5                         12.400000   \n",
              "4                                    6                         13.000000   \n",
              "\n",
              "   Curricular units 2nd sem (without evaluations)  Unemployment rate  \\\n",
              "0                                               0               10.8   \n",
              "1                                               0               13.9   \n",
              "2                                               0               10.8   \n",
              "3                                               0                9.4   \n",
              "4                                               0               13.9   \n",
              "\n",
              "   Inflation rate   GDP  Target  \n",
              "0             1.4  1.74       1  \n",
              "1            -0.3  0.79       2  \n",
              "2             1.4  1.74       1  \n",
              "3            -0.8 -3.12       2  \n",
              "4            -0.3  0.79       2  \n",
              "\n",
              "[5 rows x 37 columns]"
            ]
          },
          "execution_count": 19,
          "metadata": {},
          "output_type": "execute_result"
        }
      ],
      "source": [
        "df = pd.read_parquet('predict_dropout.parquet')\n",
        "df.head()\n",
        "\n",
        "#Leitura do dataframe"
      ]
    },
    {
      "cell_type": "code",
      "execution_count": null,
      "metadata": {
        "id": "Rporsx9kpbT2"
      },
      "outputs": [],
      "source": [
        "data = df[['Marital status', 'Nacionality', 'Mother\\'s qualification',\n",
        "           'Father\\'s qualification', 'Unemployment rate', 'Inflation rate', 'GDP']]\n",
        "\n",
        "#Agrupar com base somente em dados sociodemográficos e adaptação"
      ]
    },
    {
      "cell_type": "code",
      "execution_count": null,
      "metadata": {
        "id": "FILqd_5lqXEP"
      },
      "outputs": [],
      "source": [
        "scaler = StandardScaler()\n",
        "data_scaled = scaler.fit_transform(data)\n",
        "\n",
        "#Normalização dos dados"
      ]
    },
    {
      "cell_type": "code",
      "execution_count": null,
      "metadata": {
        "id": "kAqDasqkq9TS"
      },
      "outputs": [],
      "source": [
        "inertia = []\n",
        "k_values = range(1, 11)  # Testar para k de 1 a 10\n",
        "\n",
        "# Calcular o K-Means para cada valor de k\n",
        "for k in k_values:\n",
        "    kmeans = KMeans(n_clusters=k, random_state=42)\n",
        "    kmeans.fit(data_scaled)\n",
        "    inertia.append(kmeans.inertia_)\n"
      ]
    },
    {
      "cell_type": "code",
      "execution_count": null,
      "metadata": {
        "colab": {
          "base_uri": "https://localhost:8080/",
          "height": 487
        },
        "id": "mHqZQddYrDT1",
        "outputId": "21063fdb-43ea-475a-e238-b25a4f3e7595"
      },
      "outputs": [
        {
          "data": {
            "image/png": "[encoded data removed]",
            "text/plain": [
              "<Figure size 800x500 with 1 Axes>"
            ]
          },
          "metadata": {},
          "output_type": "display_data"
        }
      ],
      "source": [
        "# Plotar o gráfico do método do cotovelo\n",
        "plt.figure(figsize=(8, 5))\n",
        "plt.plot(k_values, inertia, marker='o')\n",
        "plt.title('Método do Cotovelo')\n",
        "plt.xlabel('Número de clusters (k)')\n",
        "plt.ylabel('Inertia')\n",
        "plt.grid()\n",
        "plt.show()"
      ]
    },
    {
      "cell_type": "code",
      "execution_count": null,
      "metadata": {
        "colab": {
          "base_uri": "https://localhost:8080/"
        },
        "id": "XYPnFHFLrs9T",
        "outputId": "9a1ebe32-9bda-472e-84f5-9b178a547430"
      },
      "outputs": [
        {
          "name": "stdout",
          "output_type": "stream",
          "text": [
            "   Marital status  Nacionality  Mother's qualification  \\\n",
            "0               1            1                      19   \n",
            "1               1            1                       1   \n",
            "2               1            1                      37   \n",
            "3               1            1                      38   \n",
            "4               2            1                      37   \n",
            "\n",
            "   Father's qualification  Unemployment rate  Inflation rate   GDP  Cluster  \n",
            "0                      12               10.8             1.4  1.74        0  \n",
            "1                       3               13.9            -0.3  0.79        0  \n",
            "2                      37               10.8             1.4  1.74        1  \n",
            "3                      37                9.4            -0.8 -3.12        2  \n",
            "4                      38               13.9            -0.3  0.79        1  \n"
          ]
        }
      ],
      "source": [
        "# Escolher o número de clusters ideal (k)\n",
        "k = 4\n",
        "\n",
        "# Aplicar o K-Means\n",
        "kmeans = KMeans(n_clusters=k, random_state=42)\n",
        "kmeans.fit(data_scaled)\n",
        "\n",
        "# Adicionar os rótulos dos clusters ao DataFrame original\n",
        "df['Cluster'] = kmeans.labels_\n",
        "\n",
        "# Ver os primeiros resultados\n",
        "print(df[['Marital status', 'Nacionality', 'Mother\\'s qualification',\n",
        "          'Father\\'s qualification', 'Unemployment rate', 'Inflation rate',\n",
        "          'GDP', 'Cluster']].head())\n"
      ]
    },
    {
      "cell_type": "code",
      "execution_count": null,
      "metadata": {
        "colab": {
          "base_uri": "https://localhost:8080/"
        },
        "id": "j5kURKXIsY1B",
        "outputId": "543d9d62-4029-474a-fc71-d591f4758ac4"
      },
      "outputs": [
        {
          "name": "stdout",
          "output_type": "stream",
          "text": [
            "         Marital status  Application mode  Application order       Course  \\\n",
            "Cluster                                                                     \n",
            "0              1.056487         18.497207           1.697083  8764.330850   \n",
            "1              1.271291         18.769231           1.765797  8924.090659   \n",
            "2              1.234522         17.397749           1.904315  8852.367730   \n",
            "3              1.217233         19.650485           1.606796  8920.706311   \n",
            "\n",
            "         Daytime/evening attendance\\t  Previous qualification  \\\n",
            "Cluster                                                         \n",
            "0                            0.938547                5.900062   \n",
            "1                            0.848214                4.161401   \n",
            "2                            0.857411                2.560976   \n",
            "3                            0.894417                4.032767   \n",
            "\n",
            "         Previous qualification (grade)  Nacionality  Mother's qualification  \\\n",
            "Cluster                                                                        \n",
            "0                            132.524395     2.454376               11.622595   \n",
            "1                            131.831387     1.418269               27.087912   \n",
            "2                            132.897561     1.598499               22.767355   \n",
            "3                            133.984951     1.718447               19.712379   \n",
            "\n",
            "         Father's qualification  ...  Curricular units 2nd sem (credited)  \\\n",
            "Cluster                          ...                                        \n",
            "0                     15.075729  ...                             0.502173   \n",
            "1                     29.021291  ...                             0.535714   \n",
            "2                     24.530957  ...                             0.529081   \n",
            "3                     22.972087  ...                             0.638350   \n",
            "\n",
            "         Curricular units 2nd sem (enrolled)  \\\n",
            "Cluster                                        \n",
            "0                                   6.294227   \n",
            "1                                   6.111951   \n",
            "2                                   6.015009   \n",
            "3                                   6.463592   \n",
            "\n",
            "         Curricular units 2nd sem (evaluations)  \\\n",
            "Cluster                                           \n",
            "0                                      8.165115   \n",
            "1                                      8.039148   \n",
            "2                                      7.849906   \n",
            "3                                      8.044903   \n",
            "\n",
            "         Curricular units 2nd sem (approved)  \\\n",
            "Cluster                                        \n",
            "0                                   4.644941   \n",
            "1                                   4.222527   \n",
            "2                                   4.249531   \n",
            "3                                   4.524272   \n",
            "\n",
            "         Curricular units 2nd sem (grade)  \\\n",
            "Cluster                                     \n",
            "0                               10.617514   \n",
            "1                               10.216705   \n",
            "2                                9.801323   \n",
            "3                                9.774257   \n",
            "\n",
            "         Curricular units 2nd sem (without evaluations)  Unemployment rate  \\\n",
            "Cluster                                                                      \n",
            "0                                              0.134699          12.986654   \n",
            "1                                              0.146291           9.362981   \n",
            "2                                              0.317073           9.400000   \n",
            "3                                              0.080097          14.083010   \n",
            "\n",
            "         Inflation rate       GDP    Target  \n",
            "Cluster                                      \n",
            "0              0.434264  1.109218  1.885785  \n",
            "1              1.713805  1.522115  1.846154  \n",
            "2             -0.800000 -3.120000  1.878049  \n",
            "3              3.233374 -2.829466  1.813107  \n",
            "\n",
            "[4 rows x 37 columns]\n"
          ]
        }
      ],
      "source": [
        "cluster_analysis = df.groupby('Cluster').mean()\n",
        "print(cluster_analysis)\n",
        "\n",
        "#Analisando dados agrupados"
      ]
    },
    {
      "cell_type": "code",
      "execution_count": null,
      "metadata": {
        "colab": {
          "base_uri": "https://localhost:8080/"
        },
        "id": "ejWNe_4y218E",
        "outputId": "c0ab4618-bd46-4aab-c393-0da31f9a6fe6"
      },
      "outputs": [
        {
          "name": "stdout",
          "output_type": "stream",
          "text": [
            "   Marital status  Application mode  Application order  Course  \\\n",
            "0               1                17                  5     171   \n",
            "1               1                15                  1    9254   \n",
            "2               1                 1                  5    9070   \n",
            "3               1                17                  2    9773   \n",
            "4               2                39                  1    8014   \n",
            "\n",
            "   Daytime/evening attendance\\t  Previous qualification  \\\n",
            "0                             1                       1   \n",
            "1                             1                       1   \n",
            "2                             1                       1   \n",
            "3                             1                       1   \n",
            "4                             0                       1   \n",
            "\n",
            "   Previous qualification (grade)  Nacionality  Mother's qualification  \\\n",
            "0                           122.0            1                      19   \n",
            "1                           160.0            1                       1   \n",
            "2                           122.0            1                      37   \n",
            "3                           122.0            1                      38   \n",
            "4                           100.0            1                      37   \n",
            "\n",
            "   Father's qualification  ...  Curricular units 2nd sem (enrolled)  \\\n",
            "0                      12  ...                                    0   \n",
            "1                       3  ...                                    6   \n",
            "2                      37  ...                                    6   \n",
            "3                      37  ...                                    6   \n",
            "4                      38  ...                                    6   \n",
            "\n",
            "   Curricular units 2nd sem (evaluations)  \\\n",
            "0                                       0   \n",
            "1                                       6   \n",
            "2                                       0   \n",
            "3                                      10   \n",
            "4                                       6   \n",
            "\n",
            "   Curricular units 2nd sem (approved)  Curricular units 2nd sem (grade)  \\\n",
            "0                                    0                          0.000000   \n",
            "1                                    6                         13.666667   \n",
            "2                                    0                          0.000000   \n",
            "3                                    5                         12.400000   \n",
            "4                                    6                         13.000000   \n",
            "\n",
            "   Curricular units 2nd sem (without evaluations)  Unemployment rate  \\\n",
            "0                                               0               10.8   \n",
            "1                                               0               13.9   \n",
            "2                                               0               10.8   \n",
            "3                                               0                9.4   \n",
            "4                                               0               13.9   \n",
            "\n",
            "   Inflation rate   GDP  Target  Cluster  \n",
            "0             1.4  1.74       1        0  \n",
            "1            -0.3  0.79       2        0  \n",
            "2             1.4  1.74       1        1  \n",
            "3            -0.8 -3.12       2        2  \n",
            "4            -0.3  0.79       2        1  \n",
            "\n",
            "[5 rows x 38 columns]\n"
          ]
        }
      ],
      "source": [
        "df['Cluster'] = kmeans.labels_\n",
        "\n",
        "# Visualizar os primeiros registros com os clusters\n",
        "print(df.head())\n"
      ]
    },
    {
      "cell_type": "code",
      "execution_count": null,
      "metadata": {
        "colab": {
          "base_uri": "https://localhost:8080/",
          "height": 564
        },
        "id": "F6BkB_z13N6c",
        "outputId": "ce354aed-1464-4cac-8894-6a1a79ebd301"
      },
      "outputs": [
        {
          "data": {
            "image/png": "[encoded data removed]",
            "text/plain": [
              "<Figure size 800x600 with 1 Axes>"
            ]
          },
          "metadata": {},
          "output_type": "display_data"
        }
      ],
      "source": [
        "# Reduzindo para 2 dimensões com PCA\n",
        "pca = PCA(n_components=2)\n",
        "data_pca = pca.fit_transform(data_scaled)\n",
        "\n",
        "# Plotando os clusters\n",
        "plt.figure(figsize=(8, 6))\n",
        "for cluster in range(4):\n",
        "    plt.scatter(data_pca[kmeans.labels_ == cluster, 0],\n",
        "                data_pca[kmeans.labels_ == cluster, 1],\n",
        "                label=f'Cluster {cluster}')\n",
        "\n",
        "plt.title('Visualização dos Clusters')\n",
        "plt.xlabel('Componente Principal 1')\n",
        "plt.ylabel('Componente Principal 2')\n",
        "plt.legend()\n",
        "plt.show()"
      ]
    },
    {
      "cell_type": "code",
      "execution_count": null,
      "metadata": {
        "colab": {
          "base_uri": "https://localhost:8080/"
        },
        "id": "k1qbAWPe3q7s",
        "outputId": "34f4e24e-244f-4344-d940-e9dfb646a68c"
      },
      "outputs": [
        {
          "name": "stdout",
          "output_type": "stream",
          "text": [
            "Silhouette Score: 0.27\n"
          ]
        }
      ],
      "source": [
        "score = silhouette_score(data_scaled, kmeans.labels_)\n",
        "print(f'Silhouette Score: {score:.2f}')\n",
        "\n",
        "#Noção básica sobre divisão de clusters"
      ]
    },
    {
      "cell_type": "code",
      "execution_count": null,
      "metadata": {
        "colab": {
          "base_uri": "https://localhost:8080/"
        },
        "id": "01EzZ3TSG8w0",
        "outputId": "78b43652-4467-47f2-e3f6-6c9256df5b9b"
      },
      "outputs": [
        {
          "name": "stdout",
          "output_type": "stream",
          "text": [
            "         Marital status  Nacionality  Mother's qualification  \\\n",
            "Cluster                                                        \n",
            "0              1.056487     2.454376               11.622595   \n",
            "1              1.271291     1.418269               27.087912   \n",
            "2              1.234522     1.598499               22.767355   \n",
            "3              1.217233     1.718447               19.712379   \n",
            "\n",
            "         Father's qualification  Unemployment rate  Inflation rate       GDP  \\\n",
            "Cluster                                                                        \n",
            "0                     15.075729          12.986654        0.434264  1.109218   \n",
            "1                     29.021291           9.362981        1.713805  1.522115   \n",
            "2                     24.530957           9.400000       -0.800000 -3.120000   \n",
            "3                     22.972087          14.083010        3.233374 -2.829466   \n",
            "\n",
            "           Target  \n",
            "Cluster            \n",
            "0        1.885785  \n",
            "1        1.846154  \n",
            "2        1.878049  \n",
            "3        1.813107  \n"
          ]
        }
      ],
      "source": [
        "# Analisando a média das variáveis sociodemográficas por cluster, incluindo a variável Target\n",
        "\n",
        "sociodemographic_columns = [\n",
        "    'Marital status',\n",
        "    'Nacionality',\n",
        "    \"Mother's qualification\",\n",
        "    \"Father's qualification\",\n",
        "    'Unemployment rate',\n",
        "    'Inflation rate',\n",
        "    'GDP'\n",
        "]\n",
        "cluster_target_summary = df.groupby('Cluster')[sociodemographic_columns + ['Target']].mean()\n",
        "print(cluster_target_summary)\n"
      ]
    },
    {
      "cell_type": "code",
      "execution_count": null,
      "metadata": {
        "colab": {
          "base_uri": "https://localhost:8080/"
        },
        "id": "EE3Dt-LeM0c2",
        "outputId": "d21f8458-3e6a-466d-9755-2cccdb3a18c5"
      },
      "outputs": [
        {
          "name": "stdout",
          "output_type": "stream",
          "text": [
            "0;Marital status; 1,06\n",
            "1;Marital status; 1,27\n",
            "2;Marital status; 1,23\n",
            "3;Marital status; 1,22\n",
            "0;Application mode; 18,50\n",
            "1;Application mode; 18,77\n",
            "2;Application mode; 17,40\n",
            "3;Application mode; 19,65\n",
            "0;Application order; 1,70\n",
            "1;Application order; 1,77\n",
            "2;Application order; 1,90\n",
            "3;Application order; 1,61\n",
            "0;Course; 8764,33\n",
            "1;Course; 8924,09\n",
            "2;Course; 8852,37\n",
            "3;Course; 8920,71\n",
            "0;Daytime/evening attendance\t; 0,94\n",
            "1;Daytime/evening attendance\t; 0,85\n",
            "2;Daytime/evening attendance\t; 0,86\n",
            "3;Daytime/evening attendance\t; 0,89\n",
            "0;Previous qualification; 5,90\n",
            "1;Previous qualification; 4,16\n",
            "2;Previous qualification; 2,56\n",
            "3;Previous qualification; 4,03\n",
            "0;Previous qualification (grade); 132,52\n",
            "1;Previous qualification (grade); 131,83\n",
            "2;Previous qualification (grade); 132,90\n",
            "3;Previous qualification (grade); 133,98\n",
            "0;Nacionality; 2,45\n",
            "1;Nacionality; 1,42\n",
            "2;Nacionality; 1,60\n",
            "3;Nacionality; 1,72\n",
            "0;Mother's qualification; 11,62\n",
            "1;Mother's qualification; 27,09\n",
            "2;Mother's qualification; 22,77\n",
            "3;Mother's qualification; 19,71\n",
            "0;Father's qualification; 15,08\n",
            "1;Father's qualification; 29,02\n",
            "2;Father's qualification; 24,53\n",
            "3;Father's qualification; 22,97\n",
            "0;Mother's occupation; 9,58\n",
            "1;Mother's occupation; 15,38\n",
            "2;Mother's occupation; 7,47\n",
            "3;Mother's occupation; 8,12\n",
            "0;Father's occupation; 9,67\n",
            "1;Father's occupation; 15,60\n",
            "2;Father's occupation; 7,22\n",
            "3;Father's occupation; 8,10\n",
            "0;Admission grade; 127,39\n",
            "1;Admission grade; 126,32\n",
            "2;Admission grade; 127,39\n",
            "3;Admission grade; 127,07\n",
            "0;Displaced; 0,55\n",
            "1;Displaced; 0,57\n",
            "2;Displaced; 0,61\n",
            "3;Displaced; 0,48\n",
            "0;Educational special needs; 0,02\n",
            "1;Educational special needs; 0,01\n",
            "2;Educational special needs; 0,00\n",
            "3;Educational special needs; 0,01\n",
            "0;Debtor; 0,13\n",
            "1;Debtor; 0,12\n",
            "2;Debtor; 0,08\n",
            "3;Debtor; 0,10\n",
            "0;Tuition fees up to date; 0,90\n",
            "1;Tuition fees up to date; 0,87\n",
            "2;Tuition fees up to date; 0,86\n",
            "3;Tuition fees up to date; 0,87\n",
            "0;Gender; 0,37\n",
            "1;Gender; 0,34\n",
            "2;Gender; 0,33\n",
            "3;Gender; 0,35\n",
            "0;Scholarship holder; 0,25\n",
            "1;Scholarship holder; 0,23\n",
            "2;Scholarship holder; 0,23\n",
            "3;Scholarship holder; 0,27\n",
            "0;Age at enrollment; 21,96\n",
            "1;Age at enrollment; 24,19\n",
            "2;Age at enrollment; 23,59\n",
            "3;Age at enrollment; 23,98\n",
            "0;International; 0,04\n",
            "1;International; 0,01\n",
            "2;International; 0,02\n",
            "3;International; 0,02\n",
            "0;Curricular units 1st sem (credited); 0,64\n",
            "1;Curricular units 1st sem (credited); 0,70\n",
            "2;Curricular units 1st sem (credited); 0,68\n",
            "3;Curricular units 1st sem (credited); 0,89\n",
            "0;Curricular units 1st sem (enrolled); 6,20\n",
            "1;Curricular units 1st sem (enrolled); 6,20\n",
            "2;Curricular units 1st sem (enrolled); 6,15\n",
            "3;Curricular units 1st sem (enrolled); 6,61\n",
            "0;Curricular units 1st sem (evaluations); 8,14\n",
            "1;Curricular units 1st sem (evaluations); 8,03\n",
            "2;Curricular units 1st sem (evaluations); 8,72\n",
            "3;Curricular units 1st sem (evaluations); 8,81\n",
            "0;Curricular units 1st sem (approved); 4,86\n",
            "1;Curricular units 1st sem (approved); 4,51\n",
            "2;Curricular units 1st sem (approved); 4,45\n",
            "3;Curricular units 1st sem (approved); 4,92\n",
            "0;Curricular units 1st sem (grade); 10,94\n",
            "1;Curricular units 1st sem (grade); 10,54\n",
            "2;Curricular units 1st sem (grade); 10,35\n",
            "3;Curricular units 1st sem (grade); 10,43\n",
            "0;Curricular units 1st sem (without evaluations); 0,06\n",
            "1;Curricular units 1st sem (without evaluations); 0,08\n",
            "2;Curricular units 1st sem (without evaluations); 0,48\n",
            "3;Curricular units 1st sem (without evaluations); 0,16\n",
            "0;Curricular units 2nd sem (credited); 0,50\n",
            "1;Curricular units 2nd sem (credited); 0,54\n",
            "2;Curricular units 2nd sem (credited); 0,53\n",
            "3;Curricular units 2nd sem (credited); 0,64\n",
            "0;Curricular units 2nd sem (enrolled); 6,29\n",
            "1;Curricular units 2nd sem (enrolled); 6,11\n",
            "2;Curricular units 2nd sem (enrolled); 6,02\n",
            "3;Curricular units 2nd sem (enrolled); 6,46\n",
            "0;Curricular units 2nd sem (evaluations); 8,17\n",
            "1;Curricular units 2nd sem (evaluations); 8,04\n",
            "2;Curricular units 2nd sem (evaluations); 7,85\n",
            "3;Curricular units 2nd sem (evaluations); 8,04\n",
            "0;Curricular units 2nd sem (approved); 4,64\n",
            "1;Curricular units 2nd sem (approved); 4,22\n",
            "2;Curricular units 2nd sem (approved); 4,25\n",
            "3;Curricular units 2nd sem (approved); 4,52\n",
            "0;Curricular units 2nd sem (grade); 10,62\n",
            "1;Curricular units 2nd sem (grade); 10,22\n",
            "2;Curricular units 2nd sem (grade); 9,80\n",
            "3;Curricular units 2nd sem (grade); 9,77\n",
            "0;Curricular units 2nd sem (without evaluations); 0,13\n",
            "1;Curricular units 2nd sem (without evaluations); 0,15\n",
            "2;Curricular units 2nd sem (without evaluations); 0,32\n",
            "3;Curricular units 2nd sem (without evaluations); 0,08\n",
            "0;Unemployment rate; 12,99\n",
            "1;Unemployment rate; 9,36\n",
            "2;Unemployment rate; 9,40\n",
            "3;Unemployment rate; 14,08\n",
            "0;Inflation rate; 0,43\n",
            "1;Inflation rate; 1,71\n",
            "2;Inflation rate;-0,80\n",
            "3;Inflation rate; 3,23\n",
            "0;GDP; 1,11\n",
            "1;GDP; 1,52\n",
            "2;GDP;-3,12\n",
            "3;GDP;-2,83\n",
            "0;Target; 1,89\n",
            "1;Target; 1,85\n",
            "2;Target; 1,88\n",
            "3;Target; 1,81\n",
            "All;Marital status; 1,18\n",
            "All;Application mode; 18,67\n",
            "All;Application order; 1,73\n",
            "All;Course; 8856,64\n",
            "All;Daytime/evening attendance\t; 0,89\n",
            "All;Previous qualification; 4,58\n",
            "All;Previous qualification (grade); 132,61\n",
            "All;Nacionality; 1,87\n",
            "All;Mother's qualification; 19,56\n",
            "All;Father's qualification; 22,28\n",
            "All;Mother's occupation; 10,96\n",
            "All;Father's occupation; 11,03\n",
            "All;Admission grade; 126,98\n",
            "All;Displaced; 0,55\n",
            "All;Educational special needs; 0,01\n",
            "All;Debtor; 0,11\n",
            "All;Tuition fees up to date; 0,88\n",
            "All;Gender; 0,35\n",
            "All;Scholarship holder; 0,25\n",
            "All;Age at enrollment; 23,27\n",
            "All;International; 0,02\n",
            "All;Curricular units 1st sem (credited); 0,71\n",
            "All;Curricular units 1st sem (enrolled); 6,27\n",
            "All;Curricular units 1st sem (evaluations); 8,30\n",
            "All;Curricular units 1st sem (approved); 4,71\n",
            "All;Curricular units 1st sem (grade); 10,64\n",
            "All;Curricular units 1st sem (without evaluations); 0,14\n",
            "All;Curricular units 2nd sem (credited); 0,54\n",
            "All;Curricular units 2nd sem (enrolled); 6,23\n",
            "All;Curricular units 2nd sem (evaluations); 8,06\n",
            "All;Curricular units 2nd sem (approved); 4,44\n",
            "All;Curricular units 2nd sem (grade); 10,23\n",
            "All;Curricular units 2nd sem (without evaluations); 0,15\n",
            "All;Unemployment rate; 11,57\n",
            "All;Inflation rate; 1,23\n",
            "All;GDP; 0,00\n",
            "All;Target; 1,86\n"
          ]
        }
      ],
      "source": [
        "import numpy as np\n",
        "\n",
        "# Média dos Clusters\n",
        "for col in df.drop('Cluster', axis=1).columns:\n",
        "    for cl in np.sort(df.Cluster.unique()):\n",
        "        # Para colunas categóricas\n",
        "        if df.dtypes[col] == object:\n",
        "            vc = 100 * df.loc[df.Cluster == cl, col].value_counts() / (df.Cluster == cl).sum()\n",
        "            for cat, cnt in vc.reset_index().values:\n",
        "                print(f'{cl};{col}_{str(cat)};{cnt:5.2f}%'.replace('.', ','))\n",
        "        else:\n",
        "            # Para colunas numéricas\n",
        "            media = df.loc[df.Cluster == cl, col].mean()\n",
        "            print(f'{cl};{col};{media: .2f}'.replace('.', ','))\n",
        "\n",
        "# Resumo geral (para todas as colunas)\n",
        "for col in df.drop('Cluster', axis=1).columns:\n",
        "    if df.dtypes[col] == object:\n",
        "        vc = 100 * df[col].value_counts() / df.shape[0]\n",
        "        for cat, cnt in vc.reset_index().values:\n",
        "            print(f'All;{col}_{str(cat)};{cnt:5.2f}%'.replace('.', ','))\n",
        "    else:\n",
        "        media = df[col].mean()\n",
        "        print(f'All;{col};{media: .2f}'.replace('.', ','))\n"
      ]
    },
    {
      "cell_type": "markdown",
      "metadata": {
        "id": "HU4_bkMcRowL"
      },
      "source": [
        "# Tentando diferenciar variável target nos clusters"
      ]
    },
    {
      "cell_type": "code",
      "execution_count": null,
      "metadata": {
        "id": "8PiKPdN1Rtk2"
      },
      "outputs": [],
      "source": [
        "# Supondo que você tenha o modelo de clustering e os dados originais\n",
        "df['Cluster'] = kmeans.labels_  # Aqui 'kmeans' é o modelo que você usou para clustering\n"
      ]
    },
    {
      "cell_type": "code",
      "execution_count": null,
      "metadata": {
        "colab": {
          "base_uri": "https://localhost:8080/"
        },
        "id": "ZorP_mytTFuN",
        "outputId": "029ed12f-f807-455f-b2f8-1eac6daeb911"
      },
      "outputs": [
        {
          "name": "stdout",
          "output_type": "stream",
          "text": [
            "Cluster\n",
            "0    1.885785\n",
            "1    1.846154\n",
            "2    1.878049\n",
            "3    1.813107\n",
            "Name: Target, dtype: float64\n"
          ]
        }
      ],
      "source": [
        "# Calcule a média da variável target por cluster\n",
        "mean_target_by_cluster = df.groupby('Cluster')['Target'].mean()\n",
        "print(mean_target_by_cluster)\n"
      ]
    },
    {
      "cell_type": "code",
      "execution_count": null,
      "metadata": {
        "colab": {
          "base_uri": "https://localhost:8080/"
        },
        "id": "8H85qvSOTIqT",
        "outputId": "4c8e7c7e-b9ce-487d-9cbd-f69794f3c717"
      },
      "outputs": [
        {
          "name": "stdout",
          "output_type": "stream",
          "text": [
            "Cluster  Target\n",
            "0        2         843\n",
            "         1         476\n",
            "         3         292\n",
            "1        2         710\n",
            "         1         485\n",
            "         3         261\n",
            "2        2         250\n",
            "         1         174\n",
            "         3         109\n",
            "3        2         406\n",
            "         1         286\n",
            "         3         132\n",
            "Name: count, dtype: int64\n"
          ]
        }
      ],
      "source": [
        "# Contagem da variável target por cluster\n",
        "target_count_by_cluster = df.groupby('Cluster')['Target'].value_counts()\n",
        "print(target_count_by_cluster)\n"
      ]
    },
    {
      "cell_type": "code",
      "execution_count": null,
      "metadata": {
        "colab": {
          "base_uri": "https://localhost:8080/",
          "height": 565
        },
        "id": "5azTjFVOTLmG",
        "outputId": "a1d01005-2537-45e5-c0e2-fcc9fa528bfd"
      },
      "outputs": [
        {
          "data": {
            "image/png": "[encoded data removed]",
            "text/plain": [
              "<Figure size 1000x600 with 1 Axes>"
            ]
          },
          "metadata": {},
          "output_type": "display_data"
        }
      ],
      "source": [
        "# Boxplot da variável target por cluster\n",
        "plt.figure(figsize=(10, 6))\n",
        "sns.boxplot(x='Cluster', y='Target', data=df)\n",
        "plt.title('Distribuição da variável target por cluster')\n",
        "plt.show()\n"
      ]
    },
    {
      "cell_type": "code",
      "execution_count": null,
      "metadata": {
        "colab": {
          "base_uri": "https://localhost:8080/",
          "height": 559
        },
        "id": "DwwqAwVeTayb",
        "outputId": "6c836d02-30d5-40a8-a291-b8d936e5bf2e"
      },
      "outputs": [
        {
          "data": {
            "image/png": "[encoded data removed]",
            "text/plain": [
              "<Figure size 1000x600 with 1 Axes>"
            ]
          },
          "metadata": {},
          "output_type": "display_data"
        }
      ],
      "source": [
        "# Gráfico de barras empilhadas para variável target categórica\n",
        "target_count_by_cluster.unstack().plot(kind='bar', stacked=True, figsize=(10, 6))\n",
        "plt.title('Distribuição das classes da variável target por cluster')\n",
        "plt.xlabel('Cluster')\n",
        "plt.ylabel('Contagem')\n",
        "plt.show()\n"
      ]
    },
    {
      "cell_type": "code",
      "execution_count": null,
      "metadata": {
        "colab": {
          "base_uri": "https://localhost:8080/",
          "height": 559
        },
        "id": "p70pFXQVUylg",
        "outputId": "9c0d856f-399e-4db1-f775-845fb3367235"
      },
      "outputs": [
        {
          "data": {
            "image/png": "[encoded data removed]",
            "text/plain": [
              "<Figure size 1000x600 with 1 Axes>"
            ]
          },
          "metadata": {},
          "output_type": "display_data"
        }
      ],
      "source": [
        "# Gráfico de barras empilhadas para variável target categórica\n",
        "target_count_by_cluster.unstack().plot(kind='bar', stacked=True, figsize=(10, 6))\n",
        "plt.title('Distribuição das classes da variável target por cluster')\n",
        "plt.xlabel('Cluster')\n",
        "plt.ylabel('Contagem')\n",
        "plt.show()\n"
      ]
    },
    {
      "cell_type": "markdown",
      "metadata": {
        "id": "k8dXwk7PnYQ1"
      },
      "source": [
        "# Teste"
      ]
    },
    {
      "cell_type": "code",
      "execution_count": null,
      "metadata": {
        "id": "VJl2iX2EU2hZ"
      },
      "outputs": [],
      "source": [
        "X = df.drop(['Target'], axis=1)\n",
        "y = df['Target']\n",
        "X['Cluster'] = df['Cluster']  # Adicionando o cluster como uma feature\n",
        "\n",
        "# Agora você pode usar o X para treinar seu modelo\n"
      ]
    }
  ],
  "metadata": {
    "colab": {
      "provenance": []
    },
    "kernelspec": {
      "display_name": "Python 3",
      "name": "python3"
    },
    "language_info": {
      "name": "python"
    }
  },
  "nbformat": 4,
  "nbformat_minor": 0
}
